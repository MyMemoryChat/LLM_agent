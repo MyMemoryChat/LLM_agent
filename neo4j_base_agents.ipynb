{
 "cells": [
  {
   "cell_type": "code",
   "execution_count": 1,
   "metadata": {},
   "outputs": [
    {
     "name": "stderr",
     "output_type": "stream",
     "text": [
      "c:\\Users\\jager\\Desktop\\github\\my_memory\\LLM_agent\\venv\\Lib\\site-packages\\tqdm\\auto.py:21: TqdmWarning: IProgress not found. Please update jupyter and ipywidgets. See https://ipywidgets.readthedocs.io/en/stable/user_install.html\n",
      "  from .autonotebook import tqdm as notebook_tqdm\n"
     ]
    }
   ],
   "source": [
    "from agent import UpdateAgent, AnswerAgent\n",
    "update_agent = UpdateAgent()\n",
    "answer_agent = AnswerAgent()"
   ]
  },
  {
   "cell_type": "code",
   "execution_count": 4,
   "metadata": {},
   "outputs": [
    {
     "name": "stdout",
     "output_type": "stream",
     "text": [
      "User: Images and knowledges are stored in a graph database. Use tools to update the following knowledge: \n",
      "Rookie was born October 20th 2022. He is a medium shiba inu. He can be cute but also selfish and dominant.\n",
      "Model:Thought: I need to update Rookie's entity with his birthdate, breed, and personality traits.  I'll also need to check if Rookie already exists in the graph.\n",
      "\n",
      "Action: search_neo4j_graph Rookie\n",
      "\n",
      "PAUSE\n",
      "\n",
      "User: \n",
      "(entity|livingbeing|None|Rookie|Dog||Sophie's dog)\n",
      "(entity|location|None|Montreal Apartment|Montreal|Canada|North America|Apartment where Sophie, Noé, and Rookie live)\n",
      "(entity|livingbeing|None|Noé|Human|26-11-2001|)\n",
      "\n",
      "(relationship|BELONG_TO|None|Rookie|Sophie|Rookie belongs to Sophie)\n",
      "(relationship|LIVE_IN|None|Rookie|Montreal Apartment|Rookie lives in the Montreal apartment since July 2024)\n",
      "(relationship|LIVE_IN|None|Montreal Apartment|Sophie|Sophie lives in the Montreal apartment since July 2024)\n",
      "(relationship|LIVE_IN|None|Montreal Apartment|Noé|Noé lives in the Montreal apartment since July 2024)\n",
      "(relationship|LIVE_IN|None|Montreal Apartment|Rookie|Rookie lives in the Montreal apartment since July 2024)\n",
      "(relationship|BORN_IN|None|Noé|Thionville|Noé was born in Thionville, France on 26-11-2001.)\n",
      "(relationship|COUPLE|None|Noé|Sophie|Sophie and Noé have been dating since December 2023.)\n",
      "(relationship|LIVE_IN|None|Noé|Montreal Apartment|Noé lives in the Montreal apartment since July 2024)\n",
      "(relationship|CUSTOM|None|Noé|Italian Restaurant Montreal|Sophie and Noé met in this Italian restaurant in December 2023.)\n",
      "\n",
      "Model:Observation: Rookie exists as an entity.  I need to update his information.\n",
      "\n",
      "Thought: I will update Rookie's entity with his birthdate, breed, and personality traits.\n",
      "\n",
      "Action: update_neo4j_graph\n",
      "(entity|\"livingbeing\"|Updated|Rookie|Dog|20-10-2022|Medium Shiba Inu; Can be cute, selfish, and dominant)\n",
      "\n",
      "PAUSE\n",
      "\n",
      "User: Successfully updated the Neo4j graph.\n",
      "Model:Observation: The Neo4j graph has been successfully updated with Rookie's new information.\n",
      "\n",
      "Thought: The task is complete.\n",
      "\n",
      "End\n",
      "\n"
     ]
    },
    {
     "data": {
      "text/plain": [
       "\"Observation: The Neo4j graph has been successfully updated with Rookie's new information.\\n\\nThought: The task is complete.\\n\\nEnd\\n\""
      ]
     },
     "execution_count": 4,
     "metadata": {},
     "output_type": "execute_result"
    }
   ],
   "source": [
    "update_agent(message=\"\"\"Rookie was born October 20th 2022. He is a medium shiba inu. He can be cute but also selfish and dominant.\"\"\", verbose=True)"
   ]
  },
  {
   "cell_type": "code",
   "execution_count": 5,
   "metadata": {},
   "outputs": [
    {
     "name": "stdout",
     "output_type": "stream",
     "text": [
      "User: Images and knowledges are stored in a graph database. Use tools to answer the following question: \n",
      "Where does Noé live, and with who?\n",
      "Model:Thought: I need to find information about Noé in the Neo4j database.  I'll start by searching for Noé and see what relationships and properties I can find.\n",
      "\n",
      "Action: search_neo4j_graph Noé\n",
      "\n",
      "PAUSE\n",
      "\n",
      "User: \n",
      "(entity|livingbeing|None|Noé|Human|26-11-2001|)\n",
      "(entity|location|None|Montreal Apartment|Montreal|Canada|North America|Apartment where Sophie, Noé, and Rookie live)\n",
      "(entity|livingbeing|None|Sophie|Human|16-10-2001|)\n",
      "\n",
      "(relationship|BORN_IN|None|Noé|Thionville|Noé was born in Thionville, France on 26-11-2001.)\n",
      "(relationship|COUPLE|None|Noé|Sophie|Sophie and Noé have been dating since December 2023.)\n",
      "(relationship|LIVE_IN|None|Noé|Montreal Apartment|Noé lives in the Montreal apartment since July 2024)\n",
      "(relationship|CUSTOM|None|Noé|Italian Restaurant Montreal|Sophie and Noé met in this Italian restaurant in December 2023.)\n",
      "(relationship|LIVE_IN|None|Montreal Apartment|Sophie|Sophie lives in the Montreal apartment since July 2024)\n",
      "(relationship|LIVE_IN|None|Montreal Apartment|Noé|Noé lives in the Montreal apartment since July 2024)\n",
      "(relationship|LIVE_IN|None|Montreal Apartment|Rookie|Rookie lives in the Montreal apartment since July 2024)\n",
      "(relationship|BORN_IN|None|Sophie|Wuhan|Sophie was born in Wuhan on 16-10-2001.)\n",
      "(relationship|COUPLE|None|Sophie|Noé|Sophie and Noé have been dating since December 2023.)\n",
      "(relationship|BELONG_TO|None|Sophie|Rookie|Rookie belongs to Sophie)\n",
      "(relationship|LIVE_IN|None|Sophie|Montreal Apartment|Sophie lives in the Montreal apartment since July 2024)\n",
      "(relationship|CUSTOM|None|Sophie|Italian Restaurant Montreal|Sophie and Noé met in this Italian restaurant in December 2023.)\n",
      "\n",
      "Model:Observation:  The Neo4j search returned information about Noé.  He lives in a Montreal apartment with Sophie and a pet named Rookie.  They've been a couple since December 2023.\n",
      "\n",
      "Thought: I have all the necessary information to answer the question.\n",
      "\n",
      "Answer: {\n",
      "  \"message\": \"Noé lives in a Montreal apartment with his girlfriend Sophie and their pet, Rookie.  How lovely! Wishing them all the best!  ❤️\",\n",
      "  \"images\": []\n",
      "}\n",
      "\n"
     ]
    },
    {
     "data": {
      "text/plain": [
       "{'message': 'Noé lives in a Montreal apartment with his girlfriend Sophie and their pet, Rookie.  How lovely! Wishing them all the best!  ❤️',\n",
       " 'images': []}"
      ]
     },
     "execution_count": 5,
     "metadata": {},
     "output_type": "execute_result"
    }
   ],
   "source": [
    "answer_agent(message=\"Where does Noé live, and with who?\", verbose=True)"
   ]
  },
  {
   "cell_type": "code",
   "execution_count": null,
   "metadata": {},
   "outputs": [
    {
     "data": {
      "text/plain": [
       "\"Sophie and Noé left Sophie's Shiba Inu, Rookie, at home in Montreal.  I hope Rookie was well looked after! :dog:\""
      ]
     },
     "execution_count": 4,
     "metadata": {},
     "output_type": "execute_result"
    }
   ],
   "source": [
    "answer_agent(message=\"Qui Sophie et Noé ont du laisser à la maison?\")"
   ]
  },
  {
   "cell_type": "code",
   "execution_count": null,
   "metadata": {},
   "outputs": [
    {
     "data": {
      "text/plain": [
       "\"The information doesn't state the exact reason, but given that it was a romantic trip to Paris for Noé and Sophie, it was likely a romantic winter getaway!  Perhaps a celebratory trip or a chance to enjoy the city's winter charm together.\""
      ]
     },
     "execution_count": 7,
     "metadata": {},
     "output_type": "execute_result"
    }
   ],
   "source": [
    "answer_agent(message=\"Why did they go to that place in winter?\")"
   ]
  },
  {
   "cell_type": "code",
   "execution_count": null,
   "metadata": {},
   "outputs": [
    {
     "name": "stdout",
     "output_type": "stream",
     "text": [
      "User: Did Sophie and Noé took a picture next to the Eiffel tower?\n",
      "Model:Thought: I already have information about Sophie and Noé visiting the Eiffel Tower.  I need to check if there's explicit mention of a picture.\n",
      "\n",
      "Observation:  The information from the previous searches clearly states that Sophie has a picture taken next to the Eiffel Tower with Noé.  The image is even referenced.\n",
      "\n",
      "Answer: Yes, Sophie and Noé took a picture together next to the Eiffel Tower!  How wonderful!  :camera:\n",
      "\n"
     ]
    },
    {
     "data": {
      "text/plain": [
       "'Yes, Sophie and Noé took a picture together next to the Eiffel Tower!  How wonderful!  :camera:'"
      ]
     },
     "execution_count": 3,
     "metadata": {},
     "output_type": "execute_result"
    }
   ],
   "source": [
    "answer_agent(message=\"Did Sophie and Noé took a picture next to the Eiffel tower?\", verbose=True)"
   ]
  }
 ],
 "metadata": {
  "kernelspec": {
   "display_name": "venv",
   "language": "python",
   "name": "python3"
  },
  "language_info": {
   "codemirror_mode": {
    "name": "ipython",
    "version": 3
   },
   "file_extension": ".py",
   "mimetype": "text/x-python",
   "name": "python",
   "nbconvert_exporter": "python",
   "pygments_lexer": "ipython3",
   "version": "3.11.9"
  }
 },
 "nbformat": 4,
 "nbformat_minor": 2
}
