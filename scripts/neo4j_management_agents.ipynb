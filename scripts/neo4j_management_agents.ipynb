{
 "cells": [
  {
   "cell_type": "code",
   "execution_count": null,
   "metadata": {},
   "outputs": [
    {
     "name": "stderr",
     "output_type": "stream",
     "text": [
      "c:\\Users\\jager\\Desktop\\github\\LLM_agent\\venv\\Lib\\site-packages\\tqdm\\auto.py:21: TqdmWarning: IProgress not found. Please update jupyter and ipywidgets. See https://ipywidgets.readthedocs.io/en/stable/user_install.html\n",
      "  from .autonotebook import tqdm as notebook_tqdm\n"
     ]
    }
   ],
   "source": [
    "from agent import UpdateAgent, AnswerAgent"
   ]
  },
  {
   "cell_type": "code",
   "execution_count": 2,
   "metadata": {},
   "outputs": [
    {
     "name": "stdout",
     "output_type": "stream",
     "text": [
      "User: My name is Sophie, I come from Wuhan. I went in Paris this winter.\n",
      "I have a wonderful boyfriend called Noé, which designed this app, and a cute medium shiba inu called Rookie.\n",
      "Model:Thought: I need to extract the entities and their relationships from the text.  The entities are: Sophie, Wuhan, Paris, Noé, this app, Rookie.  The relationships are: Sophie comes from Wuhan, Sophie went to Paris, Sophie has a boyfriend Noé, Noé designed this app, Sophie has a pet Rookie.\n",
      "\n",
      "Action: search_neo4j_graph Sophie\n",
      "\n",
      "PAUSE\n",
      "\n",
      "User: No results found.\n",
      "Model:Observation:  There is no information about Sophie in the Neo4j graph. I need to create a new entity for Sophie and her relationships.\n",
      "\n",
      "Thought: I will create entities for Sophie, Wuhan, Paris, Noé, this app, and Rookie, and then create relationships between them based on the text.\n",
      "\n",
      "Action: update_neo4j_graph\n",
      "(\"entity\"|Created|Sophie|Person|Sophie is a person who comes from Wuhan and went to Paris this winter. She has a boyfriend named Noé and a Shiba Inu named Rookie.)\n",
      "(\"entity\"|Created|Wuhan|Location|A city in China.)\n",
      "(\"entity\"|Created|Paris|Location|A city in France.)\n",
      "(\"entity\"|Created|Noé|Person|Noé is Sophie's boyfriend who designed an app.)\n",
      "(\"entity\"|Created|Rookie|Pet|Rookie is Sophie's Shiba Inu.)\n",
      "(\"entity\"|Created|This app|Object|An app designed by Noé.)\n",
      "(\"relationship\"|Created|Sophie|Wuhan|Sophie comes from Wuhan.|90)\n",
      "(\"relationship\"|Created|Sophie|Paris|Sophie went to Paris this winter.|70)\n",
      "(\"relationship\"|Created|Sophie|Noé|Sophie is in a relationship with Noé.|80)\n",
      "(\"relationship\"|Created|Noé|\"This app\"|Noé designed this app.|100)\n",
      "(\"relationship\"|Created|Sophie|Rookie|Sophie owns Rookie.|95)\n",
      "\n",
      "PAUSE\n",
      "\n",
      "User: Successfully updated the Neo4j graph.\n",
      "Model:Thought: The knowledge graph has been updated with the entities and relationships extracted from the text.  All entities have been created and relationships established.\n",
      "\n",
      "End\n",
      "\n"
     ]
    },
    {
     "data": {
      "text/plain": [
       "'Thought: The knowledge graph has been updated with the entities and relationships extracted from the text.  All entities have been created and relationships established.\\n\\nEnd\\n'"
      ]
     },
     "execution_count": 2,
     "metadata": {},
     "output_type": "execute_result"
    }
   ],
   "source": [
    "update_agent = UpdateAgent()\n",
    "update_agent(message=\"\"\"My name is Sophie, I come from Wuhan. I went in Paris this winter.\n",
    "I have a wonderful boyfriend called Noé, which designed this app, and a cute medium shiba inu called Rookie.\"\"\", verbose=True)"
   ]
  },
  {
   "cell_type": "code",
   "execution_count": 3,
   "metadata": {},
   "outputs": [
    {
     "name": "stdout",
     "output_type": "stream",
     "text": [
      "User: In Paris, Noe and Sophie went to see the Eiffel tower, and went back to Montreal to see Rookie which they left at home.\n",
      "Model:Thought: I need to update the Neo4j graph with new information.  The entities are already present (Paris, Noé, Sophie, Eiffel Tower, Montreal, Rookie).  I need to add relationships reflecting their trip to the Eiffel Tower and their return to Montreal to see Rookie.\n",
      "\n",
      "Action: search_neo4j_graph Eiffel Tower\n",
      "\n",
      "PAUSE\n",
      "\n",
      "User: \n",
      "(\"entity\"|Paris|Location|A city in France.)\n",
      "(\"entity\"|This app|__Entity__|An app designed by Noé.)\n",
      "(\"entity\"|Noé|Person|Noé is Sophie's boyfriend who designed an app.)\n",
      "\n",
      "\n",
      "Model:Observation: The Eiffel Tower is not yet in the graph.  I also need to verify that Montreal is present.\n",
      "\n",
      "Action: search_neo4j_graph Montreal\n",
      "\n",
      "PAUSE\n",
      "\n",
      "User: \n",
      "(\"entity\"|Paris|Location|A city in France.)\n",
      "(\"entity\"|Sophie|Person|Sophie is a person who comes from Wuhan and went to Paris this winter. She has a boyfriend named Noé and a Shiba Inu named Rookie.)\n",
      "(\"entity\"|Wuhan|Location|A city in China.)\n",
      "\n",
      "(\"relationship\"|Sophie|Wuhan|Sophie comes from Wuhan.|90)\n",
      "(\"relationship\"|Sophie|Paris|Sophie went to Paris this winter.|70)\n",
      "(\"relationship\"|Sophie|Noé|Sophie is in a relationship with Noé.|80)\n",
      "(\"relationship\"|Sophie|Rookie|Sophie owns Rookie.|95)\n",
      "\n",
      "Model:Observation: Montreal is not in the graph. I will add it, along with the Eiffel Tower, and the new relationships.\n",
      "\n",
      "Action: update_neo4j_graph\n",
      "(\"entity\"|Created|Eiffel Tower|Object|A famous landmark in Paris.)\n",
      "(\"entity\"|Created|Montreal|Location|A city in Canada.)\n",
      "(\"relationship\"|Updated|Noé|Paris|Noé visited Paris with Sophie to see the Eiffel Tower.|85)\n",
      "(\"relationship\"|Updated|Sophie|Paris|Sophie visited Paris with Noé to see the Eiffel Tower.|85)\n",
      "(\"relationship\"|Created|Noé|Eiffel Tower|Noé visited the Eiffel Tower with Sophie.|75)\n",
      "(\"relationship\"|Created|Sophie|Eiffel Tower|Sophie visited the Eiffel Tower with Noé.|75)\n",
      "(\"relationship\"|Created|Noé|Montreal|Noé returned to Montreal to see Rookie.|90)\n",
      "(\"relationship\"|Created|Sophie|Montreal|Sophie returned to Montreal to see Rookie.|90)\n",
      "(\"relationship\"|Created|Noé|Rookie|Noé saw Rookie in Montreal.|80)\n",
      "(\"relationship\"|Created|Sophie|Rookie|Sophie saw Rookie in Montreal.|80)\n",
      "\n",
      "\n",
      "PAUSE\n",
      "\n",
      "User: Successfully updated the Neo4j graph.\n",
      "Model:Thought: The Neo4j graph is now updated with the information about the trip to Paris and the return to Montreal.\n",
      "\n",
      "End\n",
      "\n"
     ]
    },
    {
     "data": {
      "text/plain": [
       "'Thought: The Neo4j graph is now updated with the information about the trip to Paris and the return to Montreal.\\n\\nEnd\\n'"
      ]
     },
     "execution_count": 3,
     "metadata": {},
     "output_type": "execute_result"
    }
   ],
   "source": [
    "update_agent(message=\"\"\"In Paris, Noe and Sophie went to see the Eiffel tower, and went back to Montreal to see Rookie which they left at home.\"\"\", verbose=True)"
   ]
  },
  {
   "cell_type": "code",
   "execution_count": 4,
   "metadata": {},
   "outputs": [
    {
     "name": "stdout",
     "output_type": "stream",
     "text": [
      "User: Sophie and Noé met in Montreal. Noe was doing his master degree and Sophie her bachelor degree.\n",
      "Model:Thought: I need to add the information about Sophie and Noé meeting in Montreal and their studies.  This involves updating existing entities and adding a new relationship.\n",
      "\n",
      "Action: update_neo4j_graph\n",
      "(\"relationship\"|Updated|Sophie|Montreal|Sophie met Noé in Montreal while doing her bachelor degree.|90)\n",
      "(\"relationship\"|Updated|Noé|Montreal|Noé met Sophie in Montreal while doing his master degree.|90)\n",
      "(\"relationship\"|Created|Sophie|Bachelor Degree|Sophie was doing her bachelor degree in Montreal.|95)\n",
      "(\"relationship\"|Created|Noé|Master Degree|Noé was doing his master degree in Montreal.|95)\n",
      "(\"relationship\"|Created|Sophie|Noé|Sophie and Noé met in Montreal.|100)\n",
      "\n",
      "\n",
      "PAUSE\n",
      "\n",
      "User: Successfully updated the Neo4j graph.\n",
      "Model:Thought: The Neo4j graph is now updated with the information about Sophie and Noé meeting in Montreal and their studies.  All necessary entities and relationships have been added or updated.\n",
      "\n",
      "End\n",
      "\n"
     ]
    },
    {
     "data": {
      "text/plain": [
       "'Thought: The Neo4j graph is now updated with the information about Sophie and Noé meeting in Montreal and their studies.  All necessary entities and relationships have been added or updated.\\n\\nEnd\\n'"
      ]
     },
     "execution_count": 4,
     "metadata": {},
     "output_type": "execute_result"
    }
   ],
   "source": [
    "update_agent(message=\"\"\"Sophie and Noé met in Montreal. Noe was doing his master degree and Sophie her bachelor degree.\"\"\", verbose=True)"
   ]
  },
  {
   "cell_type": "code",
   "execution_count": 5,
   "metadata": {},
   "outputs": [
    {
     "data": {
      "text/plain": [
       "'Last winter, Noé and Sophie went to Paris together!  It sounds like a lovely romantic getaway.  How wonderful! :heart:'"
      ]
     },
     "execution_count": 5,
     "metadata": {},
     "output_type": "execute_result"
    }
   ],
   "source": [
    "answer_agent = AnswerAgent()\n",
    "answer_agent(message=\"Where did Noé and Sophie go last winter?\")"
   ]
  },
  {
   "cell_type": "code",
   "execution_count": 6,
   "metadata": {},
   "outputs": [
    {
     "data": {
      "text/plain": [
       "'It seems like Noé and Sophie left their adorable Shiba Inu, Rookie, at home while they were in Paris last winter.  I hope someone looked after him well!  :dog:'"
      ]
     },
     "execution_count": 6,
     "metadata": {},
     "output_type": "execute_result"
    }
   ],
   "source": [
    "answer_agent(message=\"Who did Noé and Sophie leave at home?\")"
   ]
  },
  {
   "cell_type": "code",
   "execution_count": 7,
   "metadata": {},
   "outputs": [
    {
     "data": {
      "text/plain": [
       "\"Based on the information available, it appears Noé and Sophie went to Paris last winter to visit the Eiffel Tower. While we don't have further details about their reasons for choosing winter, it's lovely to imagine a romantic trip to see this iconic landmark!  Perhaps they wanted to experience Paris's winter charm?  :sparkles:\""
      ]
     },
     "execution_count": 7,
     "metadata": {},
     "output_type": "execute_result"
    }
   ],
   "source": [
    "answer_agent(message=\"Why did they go to that place in winter?\")"
   ]
  }
 ],
 "metadata": {
  "kernelspec": {
   "display_name": "venv",
   "language": "python",
   "name": "python3"
  },
  "language_info": {
   "codemirror_mode": {
    "name": "ipython",
    "version": 3
   },
   "file_extension": ".py",
   "mimetype": "text/x-python",
   "name": "python",
   "nbconvert_exporter": "python",
   "pygments_lexer": "ipython3",
   "version": "3.11.9"
  }
 },
 "nbformat": 4,
 "nbformat_minor": 2
}
