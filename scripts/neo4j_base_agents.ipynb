{
 "cells": [
  {
   "cell_type": "code",
   "execution_count": 1,
   "metadata": {},
   "outputs": [
    {
     "name": "stderr",
     "output_type": "stream",
     "text": [
      "c:\\Users\\jager\\Desktop\\github\\my_memory\\LLM_agent\\venv\\Lib\\site-packages\\tqdm\\auto.py:21: TqdmWarning: IProgress not found. Please update jupyter and ipywidgets. See https://ipywidgets.readthedocs.io/en/stable/user_install.html\n",
      "  from .autonotebook import tqdm as notebook_tqdm\n"
     ]
    }
   ],
   "source": [
    "from agent import UpdateAgent, AnswerAgent\n",
    "update_agent = UpdateAgent()\n",
    "answer_agent = AnswerAgent()"
   ]
  },
  {
   "cell_type": "code",
   "execution_count": 2,
   "metadata": {},
   "outputs": [
    {
     "name": "stdout",
     "output_type": "stream",
     "text": [
      "No similar entities found.\n",
      "Similar to:   \n"
     ]
    },
    {
     "data": {
      "text/plain": [
       "\"Thought: The knowledge graph has been successfully updated with Rookie's information.  There is nothing more to do with this prompt.\\n\\nEnd\\n\""
      ]
     },
     "execution_count": 2,
     "metadata": {},
     "output_type": "execute_result"
    }
   ],
   "source": [
    "update_agent(message=\"\"\"Rookie was born October 20th 2022. He is a medium shiba inu. He can be cute but also selfish and dominant.\"\"\", verbose=False)"
   ]
  },
  {
   "cell_type": "code",
   "execution_count": 2,
   "metadata": {},
   "outputs": [
    {
     "name": "stdout",
     "output_type": "stream",
     "text": [
      "User: ['', '', 'Images and knowledges are stored in a graph database. Use tools to update the following knowledge: \\nRookie was born in Canada from Chinese parents.']\n",
      "Model:Thought: I need to extract the entities and relationships from the text \"Rookie was born in Canada from Chinese parents\".  The entities are Rookie (LivingBeing), Canada (Location), and Chinese parents (LivingBeing, implicitly two individuals). The relationships are BORN_IN (Rookie, Canada) and FAMILY (Rookie, Chinese parents).  I need to check if these entities exist in the Neo4j database. If not, I'll create them. If they exist, I'll update their information if necessary.  I will then create the relationships.\n",
      "\n",
      "Action: search_neo4j_graph Rookie\n",
      "\n",
      "\n",
      "PAUSE\n",
      "\n",
      "User: \n",
      "(entity|livingbeing||Rookie|Shiba Inu|20-10-2022|Medium sized Shiba Inu. Can be cute, but also selfish and dominant.)\n",
      "\n",
      "\n",
      "Model:Observation: The database already contains an entry for Rookie, a Shiba Inu born on October 20, 2022.  The additional information is present. I need to add the information about his Chinese parents and his birthplace.\n",
      "\n",
      "Thought: I need to create entities for the parents (I'll call them Parent1 and Parent2 for simplicity) and update the relationship with Rookie. I also need to create a Location entity for Canada.\n",
      "\n",
      "Action: update_neo4j_graph\n",
      "(entity|location|Created|Canada|None|Canada|North America|A country in North America.)\n",
      "(entity|livingbeing|Created|Parent1|Human|None|Parent of Rookie|One of Rookie's parents, of Chinese origin.)\n",
      "(entity|livingbeing|Created|Parent2|Human|None|Parent of Rookie|One of Rookie's parents, of Chinese origin.)\n",
      "(relationship|BORN_IN|Created|Rookie|Canada|Rookie was born in Canada.)\n",
      "(relationship|FAMILY|Created|Rookie|Parent1|Parent1 is Rookie's parent.)\n",
      "(relationship|FAMILY|Created|Rookie|Parent2|Parent2 is Rookie's parent.)\n",
      "\n",
      "PAUSE\n",
      "\n",
      "No similar entities found.\n",
      "Similar to:   \n",
      "Relation:  (relationship|BORN_IN|Created|Rookie|Canada|Rookie was born in Canada.)\n",
      "{'operation_type': 'BORN_IN', '': 'Created', 'from': 'Rookie', 'to': 'Canada', 'description': 'Rookie was born in Canada.', 'type_element': 'relationship'}\n"
     ]
    },
    {
     "ename": "KeyError",
     "evalue": "'relation_type'",
     "output_type": "error",
     "traceback": [
      "\u001b[1;31m---------------------------------------------------------------------------\u001b[0m",
      "\u001b[1;31mKeyError\u001b[0m                                  Traceback (most recent call last)",
      "Cell \u001b[1;32mIn[2], line 1\u001b[0m\n\u001b[1;32m----> 1\u001b[0m \u001b[43mupdate_agent\u001b[49m\u001b[43m(\u001b[49m\u001b[43mmessage\u001b[49m\u001b[38;5;241;43m=\u001b[39;49m\u001b[38;5;124;43m\"\"\"\u001b[39;49m\u001b[38;5;124;43mRookie was born in Canada from Chinese parents.\u001b[39;49m\u001b[38;5;124;43m\"\"\"\u001b[39;49m\u001b[43m,\u001b[49m\u001b[43m \u001b[49m\u001b[43mverbose\u001b[49m\u001b[38;5;241;43m=\u001b[39;49m\u001b[38;5;28;43;01mTrue\u001b[39;49;00m\u001b[43m)\u001b[49m\n",
      "File \u001b[1;32mc:\\Users\\jager\\Desktop\\github\\my_memory\\LLM_agent\\agent.py:140\u001b[0m, in \u001b[0;36mUpdateAgent.__call__\u001b[1;34m(self, message, image_path, verbose)\u001b[0m\n\u001b[0;32m    137\u001b[0m \u001b[38;5;28;01melse\u001b[39;00m:\n\u001b[0;32m    138\u001b[0m     image \u001b[38;5;241m=\u001b[39m \u001b[38;5;124m\"\u001b[39m\u001b[38;5;124m\"\u001b[39m\n\u001b[1;32m--> 140\u001b[0m \u001b[38;5;28;01mreturn\u001b[39;00m \u001b[38;5;28;43msuper\u001b[39;49m\u001b[43m(\u001b[49m\u001b[43m)\u001b[49m\u001b[38;5;241;43m.\u001b[39;49m\u001b[38;5;21;43m__call__\u001b[39;49m\u001b[43m(\u001b[49m\u001b[43mmessage\u001b[49m\u001b[38;5;241;43m=\u001b[39;49m\u001b[43m[\u001b[49m\u001b[43mimage_path\u001b[49m\u001b[43m,\u001b[49m\u001b[43m \u001b[49m\u001b[43mimage\u001b[49m\u001b[43m,\u001b[49m\u001b[43m \u001b[49m\u001b[43mmessage\u001b[49m\u001b[43m]\u001b[49m\u001b[43m,\u001b[49m\u001b[43m \u001b[49m\u001b[43mverbose\u001b[49m\u001b[38;5;241;43m=\u001b[39;49m\u001b[43mverbose\u001b[49m\u001b[43m)\u001b[49m\n",
      "File \u001b[1;32mc:\\Users\\jager\\Desktop\\github\\my_memory\\LLM_agent\\agent.py:77\u001b[0m, in \u001b[0;36mReActAgent.__call__\u001b[1;34m(self, message, verbose)\u001b[0m\n\u001b[0;32m     75\u001b[0m         \u001b[38;5;28;01mif\u001b[39;00m tool\u001b[38;5;241m.\u001b[39mname \u001b[38;5;129;01min\u001b[39;00m response:\n\u001b[0;32m     76\u001b[0m             entity_name \u001b[38;5;241m=\u001b[39m response\u001b[38;5;241m.\u001b[39msplit(tool\u001b[38;5;241m.\u001b[39mname)[\u001b[38;5;241m1\u001b[39m]\u001b[38;5;241m.\u001b[39msplit(\u001b[38;5;124m\"\u001b[39m\u001b[38;5;124mPAUSE\u001b[39m\u001b[38;5;124m\"\u001b[39m)[\u001b[38;5;241m0\u001b[39m]\n\u001b[1;32m---> 77\u001b[0m             \u001b[38;5;28mself\u001b[39m\u001b[38;5;241m.\u001b[39mmessages\u001b[38;5;241m.\u001b[39mappend({\u001b[38;5;124m\"\u001b[39m\u001b[38;5;124mrole\u001b[39m\u001b[38;5;124m\"\u001b[39m: \u001b[38;5;124m\"\u001b[39m\u001b[38;5;124muser\u001b[39m\u001b[38;5;124m\"\u001b[39m, \u001b[38;5;124m\"\u001b[39m\u001b[38;5;124mparts\u001b[39m\u001b[38;5;124m\"\u001b[39m: \u001b[43mtool\u001b[49m\u001b[38;5;241;43m.\u001b[39;49m\u001b[43minvoke\u001b[49m\u001b[43m(\u001b[49m\u001b[43mentity_name\u001b[49m\u001b[43m)\u001b[49m})\n\u001b[0;32m     78\u001b[0m \u001b[38;5;250m            \u001b[39m\u001b[38;5;124;03m\"\"\"except Exception as e:\u001b[39;00m\n\u001b[0;32m     79\u001b[0m \u001b[38;5;124;03m                self.messages.append({\"role\": \"user\", \"parts\": f\"Error ({e}): {entity_name}\"})\u001b[39;00m\n\u001b[0;32m     80\u001b[0m \u001b[38;5;124;03m                if not verbose:\u001b[39;00m\n\u001b[0;32m     81\u001b[0m \u001b[38;5;124;03m                    print(f\"Error ({e}):\",entity_name)\u001b[39;00m\n\u001b[0;32m     82\u001b[0m \u001b[38;5;124;03m            break\"\"\"\u001b[39;00m\n\u001b[0;32m     84\u001b[0m \u001b[38;5;28;01mreturn\u001b[39;00m response\n",
      "File \u001b[1;32mc:\\Users\\jager\\Desktop\\github\\my_memory\\LLM_agent\\venv\\Lib\\site-packages\\langchain_core\\tools\\base.py:484\u001b[0m, in \u001b[0;36mBaseTool.invoke\u001b[1;34m(self, input, config, **kwargs)\u001b[0m\n\u001b[0;32m    477\u001b[0m \u001b[38;5;28;01mdef\u001b[39;00m\u001b[38;5;250m \u001b[39m\u001b[38;5;21minvoke\u001b[39m(\n\u001b[0;32m    478\u001b[0m     \u001b[38;5;28mself\u001b[39m,\n\u001b[0;32m    479\u001b[0m     \u001b[38;5;28minput\u001b[39m: Union[\u001b[38;5;28mstr\u001b[39m, \u001b[38;5;28mdict\u001b[39m, ToolCall],\n\u001b[0;32m    480\u001b[0m     config: Optional[RunnableConfig] \u001b[38;5;241m=\u001b[39m \u001b[38;5;28;01mNone\u001b[39;00m,\n\u001b[0;32m    481\u001b[0m     \u001b[38;5;241m*\u001b[39m\u001b[38;5;241m*\u001b[39mkwargs: Any,\n\u001b[0;32m    482\u001b[0m ) \u001b[38;5;241m-\u001b[39m\u001b[38;5;241m>\u001b[39m Any:\n\u001b[0;32m    483\u001b[0m     tool_input, kwargs \u001b[38;5;241m=\u001b[39m _prep_run_args(\u001b[38;5;28minput\u001b[39m, config, \u001b[38;5;241m*\u001b[39m\u001b[38;5;241m*\u001b[39mkwargs)\n\u001b[1;32m--> 484\u001b[0m     \u001b[38;5;28;01mreturn\u001b[39;00m \u001b[38;5;28;43mself\u001b[39;49m\u001b[38;5;241;43m.\u001b[39;49m\u001b[43mrun\u001b[49m\u001b[43m(\u001b[49m\u001b[43mtool_input\u001b[49m\u001b[43m,\u001b[49m\u001b[43m \u001b[49m\u001b[38;5;241;43m*\u001b[39;49m\u001b[38;5;241;43m*\u001b[39;49m\u001b[43mkwargs\u001b[49m\u001b[43m)\u001b[49m\n",
      "File \u001b[1;32mc:\\Users\\jager\\Desktop\\github\\my_memory\\LLM_agent\\venv\\Lib\\site-packages\\langchain_core\\tools\\base.py:725\u001b[0m, in \u001b[0;36mBaseTool.run\u001b[1;34m(self, tool_input, verbose, start_color, color, callbacks, tags, metadata, run_name, run_id, config, tool_call_id, **kwargs)\u001b[0m\n\u001b[0;32m    723\u001b[0m \u001b[38;5;28;01mif\u001b[39;00m error_to_raise:\n\u001b[0;32m    724\u001b[0m     run_manager\u001b[38;5;241m.\u001b[39mon_tool_error(error_to_raise)\n\u001b[1;32m--> 725\u001b[0m     \u001b[38;5;28;01mraise\u001b[39;00m error_to_raise\n\u001b[0;32m    726\u001b[0m output \u001b[38;5;241m=\u001b[39m _format_output(content, artifact, tool_call_id, \u001b[38;5;28mself\u001b[39m\u001b[38;5;241m.\u001b[39mname, status)\n\u001b[0;32m    727\u001b[0m run_manager\u001b[38;5;241m.\u001b[39mon_tool_end(output, color\u001b[38;5;241m=\u001b[39mcolor, name\u001b[38;5;241m=\u001b[39m\u001b[38;5;28mself\u001b[39m\u001b[38;5;241m.\u001b[39mname, \u001b[38;5;241m*\u001b[39m\u001b[38;5;241m*\u001b[39mkwargs)\n",
      "File \u001b[1;32mc:\\Users\\jager\\Desktop\\github\\my_memory\\LLM_agent\\venv\\Lib\\site-packages\\langchain_core\\tools\\base.py:694\u001b[0m, in \u001b[0;36mBaseTool.run\u001b[1;34m(self, tool_input, verbose, start_color, color, callbacks, tags, metadata, run_name, run_id, config, tool_call_id, **kwargs)\u001b[0m\n\u001b[0;32m    692\u001b[0m \u001b[38;5;28;01mif\u001b[39;00m config_param \u001b[38;5;241m:=\u001b[39m _get_runnable_config_param(\u001b[38;5;28mself\u001b[39m\u001b[38;5;241m.\u001b[39m_run):\n\u001b[0;32m    693\u001b[0m     tool_kwargs \u001b[38;5;241m=\u001b[39m tool_kwargs \u001b[38;5;241m|\u001b[39m {config_param: config}\n\u001b[1;32m--> 694\u001b[0m response \u001b[38;5;241m=\u001b[39m \u001b[43mcontext\u001b[49m\u001b[38;5;241;43m.\u001b[39;49m\u001b[43mrun\u001b[49m\u001b[43m(\u001b[49m\u001b[38;5;28;43mself\u001b[39;49m\u001b[38;5;241;43m.\u001b[39;49m\u001b[43m_run\u001b[49m\u001b[43m,\u001b[49m\u001b[43m \u001b[49m\u001b[38;5;241;43m*\u001b[39;49m\u001b[43mtool_args\u001b[49m\u001b[43m,\u001b[49m\u001b[43m \u001b[49m\u001b[38;5;241;43m*\u001b[39;49m\u001b[38;5;241;43m*\u001b[39;49m\u001b[43mtool_kwargs\u001b[49m\u001b[43m)\u001b[49m\n\u001b[0;32m    695\u001b[0m \u001b[38;5;28;01mif\u001b[39;00m \u001b[38;5;28mself\u001b[39m\u001b[38;5;241m.\u001b[39mresponse_format \u001b[38;5;241m==\u001b[39m \u001b[38;5;124m\"\u001b[39m\u001b[38;5;124mcontent_and_artifact\u001b[39m\u001b[38;5;124m\"\u001b[39m:\n\u001b[0;32m    696\u001b[0m     \u001b[38;5;28;01mif\u001b[39;00m \u001b[38;5;129;01mnot\u001b[39;00m \u001b[38;5;28misinstance\u001b[39m(response, \u001b[38;5;28mtuple\u001b[39m) \u001b[38;5;129;01mor\u001b[39;00m \u001b[38;5;28mlen\u001b[39m(response) \u001b[38;5;241m!=\u001b[39m \u001b[38;5;241m2\u001b[39m:\n",
      "File \u001b[1;32mc:\\Users\\jager\\Desktop\\github\\my_memory\\LLM_agent\\venv\\Lib\\site-packages\\langchain_core\\tools\\structured.py:80\u001b[0m, in \u001b[0;36mStructuredTool._run\u001b[1;34m(self, config, run_manager, *args, **kwargs)\u001b[0m\n\u001b[0;32m     78\u001b[0m     \u001b[38;5;28;01mif\u001b[39;00m config_param \u001b[38;5;241m:=\u001b[39m _get_runnable_config_param(\u001b[38;5;28mself\u001b[39m\u001b[38;5;241m.\u001b[39mfunc):\n\u001b[0;32m     79\u001b[0m         kwargs[config_param] \u001b[38;5;241m=\u001b[39m config\n\u001b[1;32m---> 80\u001b[0m     \u001b[38;5;28;01mreturn\u001b[39;00m \u001b[38;5;28;43mself\u001b[39;49m\u001b[38;5;241;43m.\u001b[39;49m\u001b[43mfunc\u001b[49m\u001b[43m(\u001b[49m\u001b[38;5;241;43m*\u001b[39;49m\u001b[43margs\u001b[49m\u001b[43m,\u001b[49m\u001b[43m \u001b[49m\u001b[38;5;241;43m*\u001b[39;49m\u001b[38;5;241;43m*\u001b[39;49m\u001b[43mkwargs\u001b[49m\u001b[43m)\u001b[49m\n\u001b[0;32m     81\u001b[0m msg \u001b[38;5;241m=\u001b[39m \u001b[38;5;124m\"\u001b[39m\u001b[38;5;124mStructuredTool does not support sync invocation.\u001b[39m\u001b[38;5;124m\"\u001b[39m\n\u001b[0;32m     82\u001b[0m \u001b[38;5;28;01mraise\u001b[39;00m \u001b[38;5;167;01mNotImplementedError\u001b[39;00m(msg)\n",
      "File \u001b[1;32mc:\\Users\\jager\\Desktop\\github\\my_memory\\LLM_agent\\tools.py:241\u001b[0m, in \u001b[0;36mupdate_neo4j_graph\u001b[1;34m(knowledge)\u001b[0m\n\u001b[0;32m    239\u001b[0m             element\u001b[38;5;241m.\u001b[39mpop(\u001b[38;5;124m\"\u001b[39m\u001b[38;5;124moperation_type\u001b[39m\u001b[38;5;124m\"\u001b[39m, \u001b[38;5;28;01mNone\u001b[39;00m)\n\u001b[0;32m    240\u001b[0m             element\u001b[38;5;241m.\u001b[39mpop(\u001b[38;5;124m\"\u001b[39m\u001b[38;5;124mtype_element\u001b[39m\u001b[38;5;124m\"\u001b[39m, \u001b[38;5;28;01mNone\u001b[39;00m)\n\u001b[1;32m--> 241\u001b[0m             query_neo4j_graph(\u001b[38;5;124m\"\u001b[39m\u001b[38;5;124mMATCH (m:__Entity__), (n:__Entity__) where m.name=$from and n.name=$to CREATE (m)-[:\u001b[39m\u001b[38;5;124m\"\u001b[39m\u001b[38;5;241m+\u001b[39m\u001b[43melement\u001b[49m\u001b[43m[\u001b[49m\u001b[38;5;124;43m'\u001b[39;49m\u001b[38;5;124;43mrelation_type\u001b[39;49m\u001b[38;5;124;43m'\u001b[39;49m\u001b[43m]\u001b[49m\u001b[38;5;241m+\u001b[39m\u001b[38;5;124m\"\u001b[39m\u001b[38;5;124m \u001b[39m\u001b[38;5;124m{\u001b[39m\u001b[38;5;124mdescription: $description}]->(n)\u001b[39m\u001b[38;5;124m\"\u001b[39m, params\u001b[38;5;241m=\u001b[39melement)\n\u001b[0;32m    242\u001b[0m \u001b[38;5;28;01melse\u001b[39;00m:\n\u001b[0;32m    243\u001b[0m     \u001b[38;5;66;03m# Delete the old and new entity and create a new \"merged\" one\u001b[39;00m\n\u001b[0;32m    244\u001b[0m     query_neo4j_graph(\u001b[38;5;124m\"\u001b[39m\u001b[38;5;124mMATCH (n) where n.name=$n1Name or n.name=$n2Name DETACH DELETE n\u001b[39m\u001b[38;5;124m\"\u001b[39m, {\u001b[38;5;124m\"\u001b[39m\u001b[38;5;124mn1Name\u001b[39m\u001b[38;5;124m\"\u001b[39m:n1Name, \u001b[38;5;124m\"\u001b[39m\u001b[38;5;124mn2Name\u001b[39m\u001b[38;5;124m\"\u001b[39m:n2Name})\n",
      "\u001b[1;31mKeyError\u001b[0m: 'relation_type'"
     ]
    }
   ],
   "source": [
    "update_agent(message=\"\"\"Rookie was born in Canada from Chinese parents.\"\"\", verbose=True)"
   ]
  },
  {
   "cell_type": "code",
   "execution_count": null,
   "metadata": {},
   "outputs": [
    {
     "data": {
      "text/plain": [
       "\"Sophie and Noé left Sophie's Shiba Inu, Rookie, at home in Montreal.  I hope Rookie was well looked after! :dog:\""
      ]
     },
     "execution_count": 4,
     "metadata": {},
     "output_type": "execute_result"
    }
   ],
   "source": [
    "answer_agent(message=\"Qui Sophie et Noé ont du laisser à la maison?\")"
   ]
  },
  {
   "cell_type": "code",
   "execution_count": null,
   "metadata": {},
   "outputs": [
    {
     "data": {
      "text/plain": [
       "\"The information doesn't state the exact reason, but given that it was a romantic trip to Paris for Noé and Sophie, it was likely a romantic winter getaway!  Perhaps a celebratory trip or a chance to enjoy the city's winter charm together.\""
      ]
     },
     "execution_count": 7,
     "metadata": {},
     "output_type": "execute_result"
    }
   ],
   "source": [
    "answer_agent(message=\"Why did they go to that place in winter?\")"
   ]
  },
  {
   "cell_type": "code",
   "execution_count": null,
   "metadata": {},
   "outputs": [
    {
     "name": "stdout",
     "output_type": "stream",
     "text": [
      "User: Did Sophie and Noé took a picture next to the Eiffel tower?\n",
      "Model:Thought: I already have information about Sophie and Noé visiting the Eiffel Tower.  I need to check if there's explicit mention of a picture.\n",
      "\n",
      "Observation:  The information from the previous searches clearly states that Sophie has a picture taken next to the Eiffel Tower with Noé.  The image is even referenced.\n",
      "\n",
      "Answer: Yes, Sophie and Noé took a picture together next to the Eiffel Tower!  How wonderful!  :camera:\n",
      "\n"
     ]
    },
    {
     "data": {
      "text/plain": [
       "'Yes, Sophie and Noé took a picture together next to the Eiffel Tower!  How wonderful!  :camera:'"
      ]
     },
     "execution_count": 3,
     "metadata": {},
     "output_type": "execute_result"
    }
   ],
   "source": [
    "answer_agent(message=\"Did Sophie and Noé took a picture next to the Eiffel tower?\", verbose=True)"
   ]
  },
  {
   "cell_type": "code",
   "execution_count": 1,
   "metadata": {},
   "outputs": [
    {
     "name": "stderr",
     "output_type": "stream",
     "text": [
      "c:\\Users\\jager\\Desktop\\github\\my_memory\\LLM_agent\\venv\\Lib\\site-packages\\tqdm\\auto.py:21: TqdmWarning: IProgress not found. Please update jupyter and ipywidgets. See https://ipywidgets.readthedocs.io/en/stable/user_install.html\n",
      "  from .autonotebook import tqdm as notebook_tqdm\n"
     ]
    },
    {
     "name": "stdout",
     "output_type": "stream",
     "text": [
      "[\"(entity|event||Winter Trip to Strasbourg|2023-12-XX|Noé and Sophie's winter trip to Strasbourg.)\", \"(entity|event||Romantic Trip to Europe|Winter 2024|Noé and Sophie's romantic trip across Europe during winter 2024.)\", \"(entity|event||Europe Trip|2024-12-XX|Noé and Sophie's trip to Europe, including a visit to Vatican City.)\", \"(entity|event||Noé and Sophie's Visit to St. Peter's Square|2024-03-15|Noé and Sophie visited St. Peter's Square in Vatican City.)\"]\n",
      "['(entity|livingbeing||Noé|Human|26-11-2001|Born in Thionville, France. Lives in Montreal since July 2024. Brother of Elliot.)', '(entity|livingbeing||Elliot|Human|None|Brother of Noé)']\n",
      "['(entity|livingbeing||Sarah|Human|None|Girlfriend of Elliot)', '(entity|livingbeing||Rookie|Dog|20-10-2022|Medium Shiba Inu; Can be cute, selfish, and dominant)', '(entity|livingbeing||Sophie|Human|16-10-2001|Sophie is dating Noé. She lives in Montreal with Noé and her dog Rookie.  Two of her greatest joys are traveling and eating churros.)']\n",
      "['(entity|location||Strasbourg|Strasbourg|Bas-Rhin|France|A city in eastern France, known for its European Parliament and historical center.)', '(entity|location||Paris|Paris|France|Europe|Capital of France, known for the Eiffel Tower and Louvre Museum.)']\n",
      "['(entity|location||Milan|Milan|Lombardy|Italy|A major fashion capital in Italy, known for its Duomo and Galleria Vittorio Emanuele II.)', '(entity|location||Rome|Rome|Lazio|Italy|The capital of Italy, known for the Colosseum and Roman Forum.)']\n"
     ]
    },
    {
     "ename": "TypeError",
     "evalue": "Could not create `Blob`, expected `Blob`, `dict` or an `Image` type(`PIL.Image.Image` or `IPython.display.Image`).\nGot a: <class 'list'>\nValue: [[\"(entity|event||Winter Trip to Strasbourg|2023-12-XX|Noé and Sophie's winter trip to Strasbourg.)\", \"(entity|event||Romantic Trip to Europe|Winter 2024|Noé and Sophie's romantic trip across Europe during winter 2024.)\", \"(entity|event||Europe Trip|2024-12-XX|Noé and Sophie's trip to Europe, including a visit to Vatican City.)\", \"(entity|event||Noé and Sophie's Visit to St. Peter's Square|2024-03-15|Noé and Sophie visited St. Peter's Square in Vatican City.)\"], ['(entity|livingbeing||Noé|Human|26-11-2001|Born in Thionville, France. Lives in Montreal since July 2024. Brother of Elliot.)', '(entity|livingbeing||Elliot|Human|None|Brother of Noé)'], ['(entity|livingbeing||Sarah|Human|None|Girlfriend of Elliot)', '(entity|livingbeing||Rookie|Dog|20-10-2022|Medium Shiba Inu; Can be cute, selfish, and dominant)', '(entity|livingbeing||Sophie|Human|16-10-2001|Sophie is dating Noé. She lives in Montreal with Noé and her dog Rookie.  Two of her greatest joys are traveling and eating churros.)'], ['(entity|location||Strasbourg|Strasbourg|Bas-Rhin|France|A city in eastern France, known for its European Parliament and historical center.)', '(entity|location||Paris|Paris|France|Europe|Capital of France, known for the Eiffel Tower and Louvre Museum.)'], ['(entity|location||Milan|Milan|Lombardy|Italy|A major fashion capital in Italy, known for its Duomo and Galleria Vittorio Emanuele II.)', '(entity|location||Rome|Rome|Lazio|Italy|The capital of Italy, known for the Colosseum and Roman Forum.)']]",
     "output_type": "error",
     "traceback": [
      "\u001b[1;31m---------------------------------------------------------------------------\u001b[0m",
      "\u001b[1;31mTypeError\u001b[0m                                 Traceback (most recent call last)",
      "Cell \u001b[1;32mIn[1], line 4\u001b[0m\n\u001b[0;32m      1\u001b[0m \u001b[38;5;28;01mfrom\u001b[39;00m\u001b[38;5;250m \u001b[39m\u001b[38;5;21;01magent\u001b[39;00m\u001b[38;5;250m \u001b[39m\u001b[38;5;28;01mimport\u001b[39;00m OptimizerAgent\n\u001b[0;32m      3\u001b[0m optimizer \u001b[38;5;241m=\u001b[39m OptimizerAgent()\n\u001b[1;32m----> 4\u001b[0m \u001b[38;5;28mprint\u001b[39m(\u001b[43moptimizer\u001b[49m\u001b[43m(\u001b[49m\u001b[43m)\u001b[49m)\n",
      "File \u001b[1;32mc:\\Users\\jager\\Desktop\\github\\my_memory\\LLM_agent\\agent.py:28\u001b[0m, in \u001b[0;36mOptimizerAgent.__call__\u001b[1;34m(self)\u001b[0m\n\u001b[0;32m     27\u001b[0m \u001b[38;5;28;01mdef\u001b[39;00m\u001b[38;5;250m \u001b[39m\u001b[38;5;21m__call__\u001b[39m(\u001b[38;5;28mself\u001b[39m):        \n\u001b[1;32m---> 28\u001b[0m     \u001b[38;5;28;01mreturn\u001b[39;00m \u001b[38;5;28;43msuper\u001b[39;49m\u001b[43m(\u001b[49m\u001b[43m)\u001b[49m\u001b[38;5;241;43m.\u001b[39;49m\u001b[38;5;21;43m__call__\u001b[39;49m\u001b[43m(\u001b[49m\u001b[43mmessage\u001b[49m\u001b[43m \u001b[49m\u001b[38;5;241;43m=\u001b[39;49m\u001b[43m \u001b[49m\u001b[43msimilar_entities\u001b[49m\u001b[43m(\u001b[49m\u001b[43m)\u001b[49m\u001b[43m,\u001b[49m\u001b[43m \u001b[49m\u001b[43msystem_instruction\u001b[49m\u001b[38;5;241;43m=\u001b[39;49m\u001b[38;5;28;43mopen\u001b[39;49m\u001b[43m(\u001b[49m\u001b[38;5;124;43m\"\u001b[39;49m\u001b[38;5;124;43m./prompt_template/GRAPH_OPTIMIZATION/GRAPH_OPTIMIZATION.md\u001b[39;49m\u001b[38;5;124;43m\"\u001b[39;49m\u001b[43m,\u001b[49m\u001b[43m \u001b[49m\u001b[38;5;124;43m\"\u001b[39;49m\u001b[38;5;124;43mr\u001b[39;49m\u001b[38;5;124;43m\"\u001b[39;49m\u001b[43m)\u001b[49m\u001b[38;5;241;43m.\u001b[39;49m\u001b[43mread\u001b[49m\u001b[43m(\u001b[49m\u001b[43m)\u001b[49m\u001b[43m)\u001b[49m\n",
      "File \u001b[1;32mc:\\Users\\jager\\Desktop\\github\\my_memory\\LLM_agent\\agent.py:21\u001b[0m, in \u001b[0;36mSimpleAgent.__call__\u001b[1;34m(self, message, system_instruction)\u001b[0m\n\u001b[0;32m     20\u001b[0m \u001b[38;5;28;01mdef\u001b[39;00m\u001b[38;5;250m \u001b[39m\u001b[38;5;21m__call__\u001b[39m(\u001b[38;5;28mself\u001b[39m, message, system_instruction\u001b[38;5;241m=\u001b[39m\u001b[38;5;124m\"\u001b[39m\u001b[38;5;124m\"\u001b[39m):\n\u001b[1;32m---> 21\u001b[0m     response \u001b[38;5;241m=\u001b[39m \u001b[38;5;28;43mself\u001b[39;49m\u001b[38;5;241;43m.\u001b[39;49m\u001b[43mmodel\u001b[49m\u001b[38;5;241;43m.\u001b[39;49m\u001b[43mgenerate_content\u001b[49m\u001b[43m(\u001b[49m\n\u001b[0;32m     22\u001b[0m \u001b[43m        \u001b[49m\u001b[43mcontents\u001b[49m\u001b[38;5;241;43m=\u001b[39;49m\u001b[43m[\u001b[49m\u001b[43msystem_instruction\u001b[49m\u001b[43m,\u001b[49m\u001b[43m \u001b[49m\u001b[43mmessage\u001b[49m\u001b[43m]\u001b[49m\u001b[43m \u001b[49m\u001b[38;5;28;43;01mif\u001b[39;49;00m\u001b[43m \u001b[49m\u001b[43msystem_instruction\u001b[49m\u001b[43m \u001b[49m\u001b[38;5;28;43;01melse\u001b[39;49;00m\u001b[43m \u001b[49m\u001b[43m[\u001b[49m\u001b[43mmessage\u001b[49m\u001b[43m]\u001b[49m\u001b[43m,\u001b[49m\n\u001b[0;32m     23\u001b[0m \u001b[43m    \u001b[49m\u001b[43m)\u001b[49m\n\u001b[0;32m     24\u001b[0m     \u001b[38;5;28;01mreturn\u001b[39;00m response\u001b[38;5;241m.\u001b[39mtext\n",
      "File \u001b[1;32mc:\\Users\\jager\\Desktop\\github\\my_memory\\LLM_agent\\venv\\Lib\\site-packages\\google\\generativeai\\generative_models.py:305\u001b[0m, in \u001b[0;36mGenerativeModel.generate_content\u001b[1;34m(self, contents, generation_config, safety_settings, stream, tools, tool_config, request_options)\u001b[0m\n\u001b[0;32m    302\u001b[0m \u001b[38;5;28;01mif\u001b[39;00m \u001b[38;5;129;01mnot\u001b[39;00m contents:\n\u001b[0;32m    303\u001b[0m     \u001b[38;5;28;01mraise\u001b[39;00m \u001b[38;5;167;01mTypeError\u001b[39;00m(\u001b[38;5;124m\"\u001b[39m\u001b[38;5;124mcontents must not be empty\u001b[39m\u001b[38;5;124m\"\u001b[39m)\n\u001b[1;32m--> 305\u001b[0m request \u001b[38;5;241m=\u001b[39m \u001b[38;5;28;43mself\u001b[39;49m\u001b[38;5;241;43m.\u001b[39;49m\u001b[43m_prepare_request\u001b[49m\u001b[43m(\u001b[49m\n\u001b[0;32m    306\u001b[0m \u001b[43m    \u001b[49m\u001b[43mcontents\u001b[49m\u001b[38;5;241;43m=\u001b[39;49m\u001b[43mcontents\u001b[49m\u001b[43m,\u001b[49m\n\u001b[0;32m    307\u001b[0m \u001b[43m    \u001b[49m\u001b[43mgeneration_config\u001b[49m\u001b[38;5;241;43m=\u001b[39;49m\u001b[43mgeneration_config\u001b[49m\u001b[43m,\u001b[49m\n\u001b[0;32m    308\u001b[0m \u001b[43m    \u001b[49m\u001b[43msafety_settings\u001b[49m\u001b[38;5;241;43m=\u001b[39;49m\u001b[43msafety_settings\u001b[49m\u001b[43m,\u001b[49m\n\u001b[0;32m    309\u001b[0m \u001b[43m    \u001b[49m\u001b[43mtools\u001b[49m\u001b[38;5;241;43m=\u001b[39;49m\u001b[43mtools\u001b[49m\u001b[43m,\u001b[49m\n\u001b[0;32m    310\u001b[0m \u001b[43m    \u001b[49m\u001b[43mtool_config\u001b[49m\u001b[38;5;241;43m=\u001b[39;49m\u001b[43mtool_config\u001b[49m\u001b[43m,\u001b[49m\n\u001b[0;32m    311\u001b[0m \u001b[43m\u001b[49m\u001b[43m)\u001b[49m\n\u001b[0;32m    313\u001b[0m \u001b[38;5;28;01mif\u001b[39;00m request\u001b[38;5;241m.\u001b[39mcontents \u001b[38;5;129;01mand\u001b[39;00m \u001b[38;5;129;01mnot\u001b[39;00m request\u001b[38;5;241m.\u001b[39mcontents[\u001b[38;5;241m-\u001b[39m\u001b[38;5;241m1\u001b[39m]\u001b[38;5;241m.\u001b[39mrole:\n\u001b[0;32m    314\u001b[0m     request\u001b[38;5;241m.\u001b[39mcontents[\u001b[38;5;241m-\u001b[39m\u001b[38;5;241m1\u001b[39m]\u001b[38;5;241m.\u001b[39mrole \u001b[38;5;241m=\u001b[39m _USER_ROLE\n",
      "File \u001b[1;32mc:\\Users\\jager\\Desktop\\github\\my_memory\\LLM_agent\\venv\\Lib\\site-packages\\google\\generativeai\\generative_models.py:154\u001b[0m, in \u001b[0;36mGenerativeModel._prepare_request\u001b[1;34m(self, contents, generation_config, safety_settings, tools, tool_config)\u001b[0m\n\u001b[0;32m    151\u001b[0m \u001b[38;5;28;01melse\u001b[39;00m:\n\u001b[0;32m    152\u001b[0m     tool_config \u001b[38;5;241m=\u001b[39m content_types\u001b[38;5;241m.\u001b[39mto_tool_config(tool_config)\n\u001b[1;32m--> 154\u001b[0m contents \u001b[38;5;241m=\u001b[39m \u001b[43mcontent_types\u001b[49m\u001b[38;5;241;43m.\u001b[39;49m\u001b[43mto_contents\u001b[49m\u001b[43m(\u001b[49m\u001b[43mcontents\u001b[49m\u001b[43m)\u001b[49m\n\u001b[0;32m    156\u001b[0m generation_config \u001b[38;5;241m=\u001b[39m generation_types\u001b[38;5;241m.\u001b[39mto_generation_config_dict(generation_config)\n\u001b[0;32m    157\u001b[0m merged_gc \u001b[38;5;241m=\u001b[39m \u001b[38;5;28mself\u001b[39m\u001b[38;5;241m.\u001b[39m_generation_config\u001b[38;5;241m.\u001b[39mcopy()\n",
      "File \u001b[1;32mc:\\Users\\jager\\Desktop\\github\\my_memory\\LLM_agent\\venv\\Lib\\site-packages\\google\\generativeai\\types\\content_types.py:333\u001b[0m, in \u001b[0;36mto_contents\u001b[1;34m(contents)\u001b[0m\n\u001b[0;32m    328\u001b[0m     \u001b[38;5;28;01mexcept\u001b[39;00m \u001b[38;5;167;01mTypeError\u001b[39;00m:\n\u001b[0;32m    329\u001b[0m         \u001b[38;5;66;03m# If you get a TypeError here it's probably because that was a list\u001b[39;00m\n\u001b[0;32m    330\u001b[0m         \u001b[38;5;66;03m# of parts, not a list of contents, so fall back to `to_content`.\u001b[39;00m\n\u001b[0;32m    331\u001b[0m         \u001b[38;5;28;01mpass\u001b[39;00m\n\u001b[1;32m--> 333\u001b[0m contents \u001b[38;5;241m=\u001b[39m [\u001b[43mto_content\u001b[49m\u001b[43m(\u001b[49m\u001b[43mcontents\u001b[49m\u001b[43m)\u001b[49m]\n\u001b[0;32m    334\u001b[0m \u001b[38;5;28;01mreturn\u001b[39;00m contents\n",
      "File \u001b[1;32mc:\\Users\\jager\\Desktop\\github\\my_memory\\LLM_agent\\venv\\Lib\\site-packages\\google\\generativeai\\types\\content_types.py:296\u001b[0m, in \u001b[0;36mto_content\u001b[1;34m(content)\u001b[0m\n\u001b[0;32m    294\u001b[0m     \u001b[38;5;28;01mreturn\u001b[39;00m content\n\u001b[0;32m    295\u001b[0m \u001b[38;5;28;01melif\u001b[39;00m \u001b[38;5;28misinstance\u001b[39m(content, Iterable) \u001b[38;5;129;01mand\u001b[39;00m \u001b[38;5;129;01mnot\u001b[39;00m \u001b[38;5;28misinstance\u001b[39m(content, \u001b[38;5;28mstr\u001b[39m):\n\u001b[1;32m--> 296\u001b[0m     \u001b[38;5;28;01mreturn\u001b[39;00m protos\u001b[38;5;241m.\u001b[39mContent(parts\u001b[38;5;241m=\u001b[39m\u001b[43m[\u001b[49m\u001b[43mto_part\u001b[49m\u001b[43m(\u001b[49m\u001b[43mpart\u001b[49m\u001b[43m)\u001b[49m\u001b[43m \u001b[49m\u001b[38;5;28;43;01mfor\u001b[39;49;00m\u001b[43m \u001b[49m\u001b[43mpart\u001b[49m\u001b[43m \u001b[49m\u001b[38;5;129;43;01min\u001b[39;49;00m\u001b[43m \u001b[49m\u001b[43mcontent\u001b[49m\u001b[43m]\u001b[49m)\n\u001b[0;32m    297\u001b[0m \u001b[38;5;28;01melse\u001b[39;00m:\n\u001b[0;32m    298\u001b[0m     \u001b[38;5;66;03m# Maybe this is a Part?\u001b[39;00m\n\u001b[0;32m    299\u001b[0m     \u001b[38;5;28;01mreturn\u001b[39;00m protos\u001b[38;5;241m.\u001b[39mContent(parts\u001b[38;5;241m=\u001b[39m[to_part(content)])\n",
      "File \u001b[1;32mc:\\Users\\jager\\Desktop\\github\\my_memory\\LLM_agent\\venv\\Lib\\site-packages\\google\\generativeai\\types\\content_types.py:296\u001b[0m, in \u001b[0;36m<listcomp>\u001b[1;34m(.0)\u001b[0m\n\u001b[0;32m    294\u001b[0m     \u001b[38;5;28;01mreturn\u001b[39;00m content\n\u001b[0;32m    295\u001b[0m \u001b[38;5;28;01melif\u001b[39;00m \u001b[38;5;28misinstance\u001b[39m(content, Iterable) \u001b[38;5;129;01mand\u001b[39;00m \u001b[38;5;129;01mnot\u001b[39;00m \u001b[38;5;28misinstance\u001b[39m(content, \u001b[38;5;28mstr\u001b[39m):\n\u001b[1;32m--> 296\u001b[0m     \u001b[38;5;28;01mreturn\u001b[39;00m protos\u001b[38;5;241m.\u001b[39mContent(parts\u001b[38;5;241m=\u001b[39m[\u001b[43mto_part\u001b[49m\u001b[43m(\u001b[49m\u001b[43mpart\u001b[49m\u001b[43m)\u001b[49m \u001b[38;5;28;01mfor\u001b[39;00m part \u001b[38;5;129;01min\u001b[39;00m content])\n\u001b[0;32m    297\u001b[0m \u001b[38;5;28;01melse\u001b[39;00m:\n\u001b[0;32m    298\u001b[0m     \u001b[38;5;66;03m# Maybe this is a Part?\u001b[39;00m\n\u001b[0;32m    299\u001b[0m     \u001b[38;5;28;01mreturn\u001b[39;00m protos\u001b[38;5;241m.\u001b[39mContent(parts\u001b[38;5;241m=\u001b[39m[to_part(content)])\n",
      "File \u001b[1;32mc:\\Users\\jager\\Desktop\\github\\my_memory\\LLM_agent\\venv\\Lib\\site-packages\\google\\generativeai\\types\\content_types.py:264\u001b[0m, in \u001b[0;36mto_part\u001b[1;34m(part)\u001b[0m\n\u001b[0;32m    260\u001b[0m     \u001b[38;5;28;01mreturn\u001b[39;00m protos\u001b[38;5;241m.\u001b[39mPart(function_response\u001b[38;5;241m=\u001b[39mpart)\n\u001b[0;32m    262\u001b[0m \u001b[38;5;28;01melse\u001b[39;00m:\n\u001b[0;32m    263\u001b[0m     \u001b[38;5;66;03m# Maybe it can be turned into a blob?\u001b[39;00m\n\u001b[1;32m--> 264\u001b[0m     \u001b[38;5;28;01mreturn\u001b[39;00m protos\u001b[38;5;241m.\u001b[39mPart(inline_data\u001b[38;5;241m=\u001b[39m\u001b[43mto_blob\u001b[49m\u001b[43m(\u001b[49m\u001b[43mpart\u001b[49m\u001b[43m)\u001b[49m)\n",
      "File \u001b[1;32mc:\\Users\\jager\\Desktop\\github\\my_memory\\LLM_agent\\venv\\Lib\\site-packages\\google\\generativeai\\types\\content_types.py:210\u001b[0m, in \u001b[0;36mto_blob\u001b[1;34m(blob)\u001b[0m\n\u001b[0;32m    206\u001b[0m \u001b[38;5;28;01mif\u001b[39;00m \u001b[38;5;28misinstance\u001b[39m(blob, Mapping):\n\u001b[0;32m    207\u001b[0m     \u001b[38;5;28;01mraise\u001b[39;00m \u001b[38;5;167;01mKeyError\u001b[39;00m(\n\u001b[0;32m    208\u001b[0m         \u001b[38;5;124m\"\u001b[39m\u001b[38;5;124mCould not recognize the intended type of the `dict`\u001b[39m\u001b[38;5;130;01m\\n\u001b[39;00m\u001b[38;5;124m\"\u001b[39m \u001b[38;5;124m\"\u001b[39m\u001b[38;5;124mA content should have \u001b[39m\u001b[38;5;124m\"\u001b[39m\n\u001b[0;32m    209\u001b[0m     )\n\u001b[1;32m--> 210\u001b[0m \u001b[38;5;28;01mraise\u001b[39;00m \u001b[38;5;167;01mTypeError\u001b[39;00m(\n\u001b[0;32m    211\u001b[0m     \u001b[38;5;124m\"\u001b[39m\u001b[38;5;124mCould not create `Blob`, expected `Blob`, `dict` or an `Image` type\u001b[39m\u001b[38;5;124m\"\u001b[39m\n\u001b[0;32m    212\u001b[0m     \u001b[38;5;124m\"\u001b[39m\u001b[38;5;124m(`PIL.Image.Image` or `IPython.display.Image`).\u001b[39m\u001b[38;5;130;01m\\n\u001b[39;00m\u001b[38;5;124m\"\u001b[39m\n\u001b[0;32m    213\u001b[0m     \u001b[38;5;124mf\u001b[39m\u001b[38;5;124m\"\u001b[39m\u001b[38;5;124mGot a: \u001b[39m\u001b[38;5;132;01m{\u001b[39;00m\u001b[38;5;28mtype\u001b[39m(blob)\u001b[38;5;132;01m}\u001b[39;00m\u001b[38;5;130;01m\\n\u001b[39;00m\u001b[38;5;124m\"\u001b[39m\n\u001b[0;32m    214\u001b[0m     \u001b[38;5;124mf\u001b[39m\u001b[38;5;124m\"\u001b[39m\u001b[38;5;124mValue: \u001b[39m\u001b[38;5;132;01m{\u001b[39;00mblob\u001b[38;5;132;01m}\u001b[39;00m\u001b[38;5;124m\"\u001b[39m\n\u001b[0;32m    215\u001b[0m )\n",
      "\u001b[1;31mTypeError\u001b[0m: Could not create `Blob`, expected `Blob`, `dict` or an `Image` type(`PIL.Image.Image` or `IPython.display.Image`).\nGot a: <class 'list'>\nValue: [[\"(entity|event||Winter Trip to Strasbourg|2023-12-XX|Noé and Sophie's winter trip to Strasbourg.)\", \"(entity|event||Romantic Trip to Europe|Winter 2024|Noé and Sophie's romantic trip across Europe during winter 2024.)\", \"(entity|event||Europe Trip|2024-12-XX|Noé and Sophie's trip to Europe, including a visit to Vatican City.)\", \"(entity|event||Noé and Sophie's Visit to St. Peter's Square|2024-03-15|Noé and Sophie visited St. Peter's Square in Vatican City.)\"], ['(entity|livingbeing||Noé|Human|26-11-2001|Born in Thionville, France. Lives in Montreal since July 2024. Brother of Elliot.)', '(entity|livingbeing||Elliot|Human|None|Brother of Noé)'], ['(entity|livingbeing||Sarah|Human|None|Girlfriend of Elliot)', '(entity|livingbeing||Rookie|Dog|20-10-2022|Medium Shiba Inu; Can be cute, selfish, and dominant)', '(entity|livingbeing||Sophie|Human|16-10-2001|Sophie is dating Noé. She lives in Montreal with Noé and her dog Rookie.  Two of her greatest joys are traveling and eating churros.)'], ['(entity|location||Strasbourg|Strasbourg|Bas-Rhin|France|A city in eastern France, known for its European Parliament and historical center.)', '(entity|location||Paris|Paris|France|Europe|Capital of France, known for the Eiffel Tower and Louvre Museum.)'], ['(entity|location||Milan|Milan|Lombardy|Italy|A major fashion capital in Italy, known for its Duomo and Galleria Vittorio Emanuele II.)', '(entity|location||Rome|Rome|Lazio|Italy|The capital of Italy, known for the Colosseum and Roman Forum.)']]"
     ]
    }
   ],
   "source": [
    "from agent import OptimizerAgent\n",
    "\n",
    "optimizer = OptimizerAgent()\n",
    "print(optimizer())"
   ]
  }
 ],
 "metadata": {
  "kernelspec": {
   "display_name": "venv",
   "language": "python",
   "name": "python3"
  },
  "language_info": {
   "codemirror_mode": {
    "name": "ipython",
    "version": 3
   },
   "file_extension": ".py",
   "mimetype": "text/x-python",
   "name": "python",
   "nbconvert_exporter": "python",
   "pygments_lexer": "ipython3",
   "version": "3.11.9"
  }
 },
 "nbformat": 4,
 "nbformat_minor": 2
}
