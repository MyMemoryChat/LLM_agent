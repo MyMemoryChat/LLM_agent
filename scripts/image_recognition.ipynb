{
 "cells": [
  {
   "cell_type": "code",
   "execution_count": 1,
   "metadata": {},
   "outputs": [
    {
     "name": "stderr",
     "output_type": "stream",
     "text": [
      "c:\\Users\\jager\\Desktop\\github\\LLM_agent\\venv\\Lib\\site-packages\\tqdm\\auto.py:21: TqdmWarning: IProgress not found. Please update jupyter and ipywidgets. See https://ipywidgets.readthedocs.io/en/stable/user_install.html\n",
      "  from .autonotebook import tqdm as notebook_tqdm\n"
     ]
    }
   ],
   "source": [
    "from agent import PictureAgent"
   ]
  },
  {
   "cell_type": "code",
   "execution_count": 2,
   "metadata": {},
   "outputs": [],
   "source": [
    "image_path = \"./images/image1.jpg\"\n",
    "picture_agent = PictureAgent()"
   ]
  },
  {
   "cell_type": "code",
   "execution_count": 3,
   "metadata": {},
   "outputs": [
    {
     "name": "stdout",
     "output_type": "stream",
     "text": [
      "User: ['./images/image1.jpg', <PIL.JpegImagePlugin.JpegImageFile image mode=RGB size=3024x4032 at 0x253465CD510>, 'This is a picture of Sophie in front of the Eiffel Tower at night this winter 2024. Noé is taking the picture.']\n",
      "Model:Thought: The image description provides several key entities: Sophie, Noé, Eiffel Tower, Paris, and Winter 2024.  I need to verify these entities exist in the Neo4j graph and their relationships, then create an image node and link it appropriately.\n",
      "\n",
      "Action: search_neo4j_graph Sophie\n",
      "\n",
      "PAUSE\n",
      "\n",
      "User: \n",
      "(\"entity\"|Sophie|Person|Sophie is a person who comes from Wuhan and visited Paris this winter. She has a boyfriend named Noé and a Shiba Inu named Rookie.  She met Noé in Montreal while doing her bachelor's degree)\n",
      "(\"entity\"|Noé|Person|Noé is Sophie's boyfriend and designed an app. He met Sophie in Montreal while doing his master's degree)\n",
      "(\"entity\"|Rookie|Pet|Rookie is Sophie's Shiba Inu)\n",
      "\n",
      "(\"relationship\"|Sophie|Paris|Sophie visited Paris this winter and saw the Eiffel Tower with Noé.|75)\n",
      "(\"relationship\"|Sophie|Noé|Sophie is in a relationship with Noé. Sophie and Noé met in Montreal while studying.|95)\n",
      "(\"relationship\"|Sophie|Rookie|Sophie left Rookie at home in Montreal and went to Paris with Noé.|90)\n",
      "(\"relationship\"|Sophie|Wuhan|Sophie comes from Wuhan.|90)\n",
      "(\"relationship\"|Sophie|Eiffel Tower|Sophie visited the Eiffel Tower with Noé.|85)\n",
      "(\"relationship\"|Noé|App|Noé designed the app.|100)\n",
      "(\"relationship\"|Noé|Eiffel Tower|Noé visited the Eiffel Tower with Sophie.|85)\n",
      "\n",
      "Model:Observation: The Neo4j search returned information about Sophie, Noé, and Rookie, confirming their existence and relationships.  It also shows Sophie's connection to Paris and the Eiffel Tower, aligning with the image.\n",
      "\n",
      "Thought: I need to check if the Eiffel Tower and Winter 2024 are in the graph. Then, I'll create the image node and its relationships.\n",
      "\n",
      "Action: search_neo4j_graph Eiffel Tower\n",
      "\n",
      "PAUSE\n",
      "\n",
      "User: \n",
      "(\"entity\"|Eiffel Tower|Location|A famous monument in Paris)\n",
      "(\"entity\"|Paris|Location|A city in France)\n",
      "(\"entity\"|Montreal|Location|A city in Canada)\n",
      "\n",
      "\n",
      "Model:Observation:  The Eiffel Tower and Paris are already in the graph.  Montreal is also present, which is relevant to Sophie and Noé's relationship.\n",
      "\n",
      "Thought: I can now create the image node and its relationships.  The image depicts Sophie at the Eiffel Tower in Paris during winter 2024, with Noé implied as the photographer.\n",
      "\n",
      "Action: update_neo4j_graph\n",
      "\n",
      "(\"image\"|Sophie at the Eiffel Tower|./images/image1.jpg|Eiffel Tower, Paris|Winter 2024|Sophie, visiting Paris with her boyfriend Noé, poses for a picture in front of the illuminated Eiffel Tower during the winter of 2024.)\n",
      "(\"relationship\"|Created|Sophie|Sophie at the Eiffel Tower|Sophie is the main subject of the image.|100)\n",
      "(\"relationship\"|Created|Eiffel Tower|Sophie at the Eiffel Tower|The Eiffel Tower is the prominent background of the image.|95)\n",
      "(\"relationship\"|Created|Paris|Sophie at the Eiffel Tower|The image was taken in Paris.|90)\n",
      "(\"relationship\"|Created|Noé|Sophie at the Eiffel Tower|Noé is implied to be the photographer.|80)\n",
      "(\"relationship\"|Created|Winter 2024|Sophie at the Eiffel Tower|The image was taken during winter 2024.|70)\n",
      "\n",
      "PAUSE\n",
      "\n",
      "User: Successfully updated the Neo4j graph.\n",
      "Model:Observation: The knowledge graph has been successfully updated with the new image and its relationships.\n",
      "\n",
      "Thought: The task is complete.\n",
      "\n",
      "End\n",
      "\n"
     ]
    },
    {
     "data": {
      "text/plain": [
       "'Observation: The knowledge graph has been successfully updated with the new image and its relationships.\\n\\nThought: The task is complete.\\n\\nEnd\\n'"
      ]
     },
     "execution_count": 3,
     "metadata": {},
     "output_type": "execute_result"
    }
   ],
   "source": [
    "picture_agent(image_path = image_path, description = \"This is a picture of Sophie in front of the Eiffel Tower at night this winter 2024. Noé is taking the picture.\", verbose=True)"
   ]
  }
 ],
 "metadata": {
  "kernelspec": {
   "display_name": "venv",
   "language": "python",
   "name": "python3"
  },
  "language_info": {
   "codemirror_mode": {
    "name": "ipython",
    "version": 3
   },
   "file_extension": ".py",
   "mimetype": "text/x-python",
   "name": "python",
   "nbconvert_exporter": "python",
   "pygments_lexer": "ipython3",
   "version": "3.11.9"
  }
 },
 "nbformat": 4,
 "nbformat_minor": 2
}
