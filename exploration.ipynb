{
 "cells": [
  {
   "cell_type": "code",
   "execution_count": 1,
   "metadata": {},
   "outputs": [
    {
     "name": "stderr",
     "output_type": "stream",
     "text": [
      "c:\\Users\\jager\\Desktop\\github\\LLM_agent\\venv\\Lib\\site-packages\\tqdm\\auto.py:21: TqdmWarning: IProgress not found. Please update jupyter and ipywidgets. See https://ipywidgets.readthedocs.io/en/stable/user_install.html\n",
      "  from .autonotebook import tqdm as notebook_tqdm\n"
     ]
    },
    {
     "data": {
      "text/plain": [
       "True"
      ]
     },
     "execution_count": 1,
     "metadata": {},
     "output_type": "execute_result"
    }
   ],
   "source": [
    "from langchain_google_genai import ChatGoogleGenerativeAI\n",
    "from langchain_openai import OpenAIEmbeddings\n",
    "from langchain_core.prompts import PromptTemplate\n",
    "\n",
    "import os\n",
    "from dotenv import load_dotenv\n",
    "load_dotenv()"
   ]
  },
  {
   "cell_type": "code",
   "execution_count": 2,
   "metadata": {},
   "outputs": [],
   "source": [
    "prompt_template = PromptTemplate.from_template(template=open(\"./prompt_template/ENTITIES_RELATIONS_GENERATION/ENTITIES_RELATIONS_GENERATION.md\", \"r\").read())"
   ]
  },
  {
   "cell_type": "code",
   "execution_count": 10,
   "metadata": {},
   "outputs": [],
   "source": [
    "model = ChatGoogleGenerativeAI(api_key = os.getenv(\"GOOGLE_API_KEY\"), model=os.getenv(\"DEFAULT_AI_GEMINI_MODEL\"))\n",
    "\n",
    "response = model.invoke(prompt_template.invoke({\"text\": open(\"./example.txt\", \"r\").read()}).to_string()).content"
   ]
  },
  {
   "cell_type": "code",
   "execution_count": 9,
   "metadata": {},
   "outputs": [
    {
     "name": "stdout",
     "output_type": "stream",
     "text": [
      "['```', '(\"entity\"|Sophie|Person|Sophie is the narrator of the text. She comes from Wuhan, went to Paris in winter, has a boyfriend named Noé, and a dog named Rookie.)', '(\"entity\"|Wuhan|Location|Sophie\\'s hometown.)', '(\"entity\"|Paris|Location|City Sophie visited this winter.)', '(\"entity\"|Winter|Date|The season when Sophie visited Paris.)', '(\"entity\"|Noé|Person|Sophie\\'s boyfriend who designed an app.)', '(\"entity\"|Rookie|Person|Sophie\\'s Shiba Inu dog.)', '', '', '(\"relationship\"|Sophie|Wuhan|Sophie comes from Wuhan.|100)', '(\"relationship\"|Sophie|Paris|Sophie visited Paris this winter.|95)', '(\"relationship\"|Paris|Winter|Sophie\\'s visit to Paris happened in winter.|90)', '(\"relationship\"|Sophie|Noé|Noé is Sophie\\'s boyfriend.|98)', '(\"relationship\"|Noé|App|Noé designed the app.|100)', '(\"relationship\"|Sophie|Rookie|Rookie is Sophie\\'s dog.|98)', '', '```']\n"
     ]
    }
   ],
   "source": [
    "print(response)"
   ]
  },
  {
   "cell_type": "code",
   "execution_count": 11,
   "metadata": {},
   "outputs": [],
   "source": [
    "response = response.split(\"\\n\")\n",
    "\n",
    "response = [row.replace(\"'\", \"\\\\'\") for row in response]\n",
    "\n",
    "entities = []\n",
    "relations = []\n",
    "for row in response:\n",
    "    if \"entity\" in row:\n",
    "        entities.append({\n",
    "            \"name\": row.split(\"|\")[1],\n",
    "            \"type\": row.split(\"|\")[2],\n",
    "            \"description\": row.split(\"|\")[3][:-1] # [:-1] to remove the closing parenthesis of the entity/relationship\n",
    "        })\n",
    "    elif \"relationship\" in row:\n",
    "        relations.append({\n",
    "            \"from\": row.split(\"|\")[1],\n",
    "            \"to\": row.split(\"|\")[2],\n",
    "            \"description\": row.split(\"|\")[3],\n",
    "            \"strength\": row.split(\"|\")[4][:-1] # [:-1] to remove the closing parenthesis of the entity/relationship\n",
    "        })"
   ]
  },
  {
   "cell_type": "code",
   "execution_count": 12,
   "metadata": {},
   "outputs": [
    {
     "name": "stdout",
     "output_type": "stream",
     "text": [
      "[{'name': 'Sophie', 'type': 'Person', 'description': 'Sophie is the narrator of the text. She comes from Wuhan, went to Paris this winter, has a boyfriend named Noé, and a dog named Rookie.'}, {'name': 'Wuhan', 'type': 'Location', 'description': 'A city where Sophie comes from.'}, {'name': 'Paris', 'type': 'Location', 'description': 'A city Sophie visited this winter.'}, {'name': 'Winter', 'type': 'Date', 'description': 'The season when Sophie visited Paris.'}, {'name': 'Noé', 'type': 'Person', 'description': \"Sophie\\\\'s boyfriend who designed an app.\"}, {'name': 'Rookie', 'type': 'Person', 'description': \"Sophie\\\\'s Shiba Inu dog.\"}]\n"
     ]
    }
   ],
   "source": [
    "print(entities)"
   ]
  },
  {
   "cell_type": "code",
   "execution_count": 17,
   "metadata": {},
   "outputs": [],
   "source": [
    "from tools import query_neo4j_graph\n",
    "\n",
    "for entity in entities:\n",
    "    query_neo4j_graph(f\"CREATE (a:{entity['type']} {{name: '{entity['name']}', description: '{entity['description']}'}})\")"
   ]
  },
  {
   "cell_type": "code",
   "execution_count": 16,
   "metadata": {},
   "outputs": [
    {
     "data": {
      "text/plain": [
       "[]"
      ]
     },
     "execution_count": 16,
     "metadata": {},
     "output_type": "execute_result"
    }
   ],
   "source": [
    "query_neo4j_graph(f\"MATCH (n) DELETE n\")"
   ]
  }
 ],
 "metadata": {
  "kernelspec": {
   "display_name": "venv",
   "language": "python",
   "name": "python3"
  },
  "language_info": {
   "codemirror_mode": {
    "name": "ipython",
    "version": 3
   },
   "file_extension": ".py",
   "mimetype": "text/x-python",
   "name": "python",
   "nbconvert_exporter": "python",
   "pygments_lexer": "ipython3",
   "version": "3.11.9"
  }
 },
 "nbformat": 4,
 "nbformat_minor": 2
}
