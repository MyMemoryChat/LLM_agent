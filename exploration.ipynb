{
 "cells": [
  {
   "cell_type": "code",
   "execution_count": 4,
   "metadata": {},
   "outputs": [
    {
     "data": {
      "text/plain": [
       "True"
      ]
     },
     "execution_count": 4,
     "metadata": {},
     "output_type": "execute_result"
    }
   ],
   "source": [
    "from langchain_google_genai import ChatGoogleGenerativeAI\n",
    "from langchain_openai import OpenAIEmbeddings\n",
    "from langchain_core.prompts import PromptTemplate\n",
    "\n",
    "import os\n",
    "from dotenv import load_dotenv\n",
    "load_dotenv()"
   ]
  },
  {
   "cell_type": "code",
   "execution_count": 16,
   "metadata": {},
   "outputs": [],
   "source": [
    "prompt_template = PromptTemplate.from_template(template=open(\"./prompt_template/ENTITIES_RELATIONS_GENERATION/ENTITIES_RELATIONS_GENERATION.md\", \"r\").read())"
   ]
  },
  {
   "cell_type": "code",
   "execution_count": 19,
   "metadata": {},
   "outputs": [
    {
     "data": {
      "text/plain": [
       "'**Entities:**\\n\\n(\"entity\"|Sophie|Person|Sophie is the narrator of the text. She comes from Wuhan, went to Paris, has a boyfriend named Noé, and a dog named Rookie.)\\n(\"entity\"|Wuhan|Location|A city in China, Sophie\\'s place of origin.)\\n(\"entity\"|Paris|Location|A city in France, where Sophie visited this winter.)\\n(\"entity\"|Noé|Person|Sophie\\'s boyfriend who designed an app.)\\n(\"entity\"|Rookie|Person|Sophie\\'s pet, a Shiba Inu dog.)\\n\\n\\n**Relationships:**\\n\\n(\"relationship\"|Sophie|Wuhan|Sophie originates from Wuhan.|90)  (Strength justification: High strength because it\\'s explicitly stated as her place of origin.)\\n(\"relationship\"|Sophie|Paris|Sophie visited Paris this winter.|80) (Strength justification:  Explicitly stated; slightly lower than Wuhan because it\\'s a visit, not a place of origin.)\\n(\"relationship\"|Sophie|Noé|Noé is Sophie\\'s boyfriend.|95) (Strength justification: Explicitly stated as a direct relationship; high strength.)\\n(\"relationship\"|Sophie|Rookie|Rookie is Sophie\\'s pet dog.|95) (Strength justification: Explicitly stated as a direct relationship; high strength.)\\n(\"relationship\"|Noé|App|Noé designed an app.|100) (Strength justification: Directly stated; full strength because it\\'s a clear creator-creation relationship.)'"
      ]
     },
     "execution_count": 19,
     "metadata": {},
     "output_type": "execute_result"
    }
   ],
   "source": [
    "model = ChatGoogleGenerativeAI(api_key = os.getenv(\"GOOGLE_API_KEY\"), model=os.getenv(\"DEFAULT_AI_GEMINI_MODEL\"))\n",
    "\n",
    "model.invoke(prompt_template.invoke({\"text\": open(\"./example.txt\", \"r\").read()}).to_string()).content"
   ]
  }
 ],
 "metadata": {
  "kernelspec": {
   "display_name": "venv",
   "language": "python",
   "name": "python3"
  },
  "language_info": {
   "codemirror_mode": {
    "name": "ipython",
    "version": 3
   },
   "file_extension": ".py",
   "mimetype": "text/x-python",
   "name": "python",
   "nbconvert_exporter": "python",
   "pygments_lexer": "ipython3",
   "version": "3.11.9"
  }
 },
 "nbformat": 4,
 "nbformat_minor": 2
}
